{
 "cells": [
  {
   "cell_type": "code",
   "execution_count": 20,
   "metadata": {},
   "outputs": [],
   "source": [
    "import random\n",
    "from collections import Counter\n",
    "\n",
    "import pandas as pd\n",
    "from nltk import NaiveBayesClassifier\n",
    "from nltk.classify import accuracy\n",
    "\n",
    "\n",
    "class GenderPredictor(object):\n",
    "\n",
    "    def __init__(self):\n",
    "        self.classifier = None\n",
    "        self.test_set = None\n",
    "        self.train_set = None\n",
    "\n",
    "    def _gender_feature(self, n):\n",
    "        n = str(n)\n",
    "        return {\n",
    "            'last_letter': n[-4:],\n",
    "            'letter_counter': ((letter, count) for letter, count in Counter(n).items())\n",
    "        }\n",
    "\n",
    "    def _get_input_files(self):\n",
    "        data_path = Path(\"data\")\n",
    "\n",
    "        return {\n",
    "            'male': 'data/Boys.csv',\n",
    "            'female': 'data/Girls.csv'\n",
    "        }\n",
    "\n",
    "    def _get_data(self):\n",
    "        labeled_data = {}\n",
    "        for gender, file in self._get_input_files().items():\n",
    "            df = pd.read_csv(file, encoding='Windows-1251', sep=';')\n",
    "            labeled_data[gender] = df[\"Name\"]\n",
    "        \n",
    "        labeled_data[\"male\"]\n",
    "        labeled_data[\"female\"]\n",
    "        return labeled_data\n",
    "\n",
    "    def _get_labelled_names(self):\n",
    "        data = self._get_data()\n",
    "        labeled_names = [(name, 'male') for name in data['male']]\n",
    "        labeled_names.extend([(name, 'female') for name in data['female']])\n",
    "        random.shuffle(labeled_names)\n",
    "\n",
    "        return labeled_names\n",
    "\n",
    "    def _split_train_test_data(self):\n",
    "        featuresets = [(self._gender_feature(name), gender)\n",
    "                       for name, gender in self._get_labelled_names()]\n",
    "        train_length = int(len(featuresets) * 0.75)\n",
    "\n",
    "        self.train_set = featuresets[0: train_length]\n",
    "        self.test_set = featuresets[train_length:]\n",
    "\n",
    "    def _get_classifier(self):\n",
    "        self._split_train_test_data()\n",
    "        self.classifier = NaiveBayesClassifier.train(self.train_set)\n",
    "        return self.classifier\n",
    "\n",
    "    @property\n",
    "    def accuracy(self):\n",
    "        if not self.classifier:\n",
    "            self.classifier = self._get_classifier()\n",
    "\n",
    "        return accuracy(self.classifier, self.test_set)\n",
    "\n",
    "    def predict(self, name):\n",
    "        if not self.classifier:\n",
    "            self.classifier = self._get_classifier()\n",
    "\n",
    "        return self.classifier.classify(self._gender_feature(name))"
   ]
  },
  {
   "cell_type": "code",
   "execution_count": 22,
   "metadata": {},
   "outputs": [
    {
     "data": {
      "text/plain": [
       "'female'"
      ]
     },
     "execution_count": 22,
     "metadata": {},
     "output_type": "execute_result"
    }
   ],
   "source": [
    "p = GenderPredictor()\n",
    "p.predict(name=\"Екатерина\")"
   ]
  },
  {
   "cell_type": "code",
   "execution_count": 25,
   "metadata": {},
   "outputs": [
    {
     "data": {
      "text/plain": [
       "0.9985294117647059"
      ]
     },
     "execution_count": 25,
     "metadata": {},
     "output_type": "execute_result"
    }
   ],
   "source": [
    "p.accuracy"
   ]
  },
  {
   "cell_type": "code",
   "execution_count": 26,
   "metadata": {},
   "outputs": [],
   "source": [
    "def f(name):\n",
    "    if p.predict(name=name) == \"female\":\n",
    "        print(\"Уважаемая\", name)\n",
    "    else:\n",
    "        print(\"Уважаемый\", name)"
   ]
  },
  {
   "cell_type": "code",
   "execution_count": 27,
   "metadata": {},
   "outputs": [
    {
     "name": "stdout",
     "output_type": "stream",
     "text": [
      "Уважаемый Семен\n"
     ]
    }
   ],
   "source": [
    "f(\"Семен\")"
   ]
  },
  {
   "cell_type": "code",
   "execution_count": null,
   "metadata": {},
   "outputs": [],
   "source": []
  }
 ],
 "metadata": {
  "kernelspec": {
   "display_name": "Python 3",
   "language": "python",
   "name": "python3"
  },
  "language_info": {
   "codemirror_mode": {
    "name": "ipython",
    "version": 3
   },
   "file_extension": ".py",
   "mimetype": "text/x-python",
   "name": "python",
   "nbconvert_exporter": "python",
   "pygments_lexer": "ipython3",
   "version": "3.7.4"
  }
 },
 "nbformat": 4,
 "nbformat_minor": 2
}
